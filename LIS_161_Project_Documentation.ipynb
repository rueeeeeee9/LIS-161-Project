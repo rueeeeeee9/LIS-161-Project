{
  "nbformat": 4,
  "nbformat_minor": 0,
  "metadata": {
    "colab": {
      "provenance": []
    },
    "kernelspec": {
      "name": "python3",
      "display_name": "Python 3"
    },
    "language_info": {
      "name": "python"
    }
  },
  "cells": [
    {
      "cell_type": "markdown",
      "source": [
        "### **app.py**\n",
        "contains routes and functions that define the behavior of the Flask application, handle various URLs, interact with the database, and render different templates based on the requested URLs and submitted form data."
      ],
      "metadata": {
        "id": "3DqpphXQRnx5"
      }
    },
    {
      "cell_type": "code",
      "source": [
        "from flask import Flask, render_template, request, redirect, url_for\n",
        "from data import *\n",
        "\n",
        "app = Flask(__name__)"
      ],
      "metadata": {
        "id": "0YJ4N0vPW7fh"
      },
      "execution_count": null,
      "outputs": []
    },
    {
      "cell_type": "code",
      "execution_count": null,
      "metadata": {
        "id": "8Tckdq88RilJ"
      },
      "outputs": [],
      "source": [
        "# renders the index.html template\n",
        "@app.route('/')\n",
        "def index():\n",
        "    return render_template('index.html')"
      ]
    },
    {
      "cell_type": "code",
      "source": [
        "# renders the devices.html template and passes the brand and smartphones_list as parameters\n",
        "@app.route('/devices/<brand>')\n",
        "def devices(brand):\n",
        "    smartphones_list = read_smartphones_by_brand(brand)\n",
        "    return render_template('devices.html',brand=brand, smartphones=smartphones_list)"
      ],
      "metadata": {
        "id": "FmwPIfjFSqGK"
      },
      "execution_count": null,
      "outputs": []
    },
    {
      "cell_type": "code",
      "source": [
        "# renders the smartphone.html template and passes the smartphone as a parameter\n",
        "@app.route('/devices/<int:smartphone_id>')\n",
        "def smartphone(smartphone_id):\n",
        "    smartphone = read_smartphone_by_id(smartphone_id)\n",
        "    return render_template('smartphone.html',smartphone=smartphone)"
      ],
      "metadata": {
        "id": "ZoJqiTyIS6s3"
      },
      "execution_count": null,
      "outputs": []
    },
    {
      "cell_type": "code",
      "source": [
        "# renders the register.html template\n",
        "@app.route('/register')\n",
        "def register():\n",
        "    return render_template('register.html')"
      ],
      "metadata": {
        "id": "1KDI7WOkTX2D"
      },
      "execution_count": null,
      "outputs": []
    },
    {
      "cell_type": "code",
      "source": [
        "# processes the form data submitted via POST method and inserts a new smartphone into the database\n",
        "@app.route('/processed', methods=['POST'])\n",
        "def processing():\n",
        "    smartphone_data = {\n",
        "        \"brand\": request.form['brand'],\n",
        "        \"model\": request.form['brand_model'],\n",
        "        \"chipset\": request.form['brand_chipset'],\n",
        "        \"main_camera\": request.form['brand_main_camera'],\n",
        "        \"selfie_camera\": request.form['brand_selfie_camera'],\n",
        "        \"internal_memory\": request.form['brand_internal_memory'],\n",
        "        \"battery\": request.form['brand_battery'],\n",
        "        \"color\": request.form['brand_color'],\n",
        "        \"price\": request.form['brand_price'],\n",
        "        \"condition\": request.form['brand_condition'],\n",
        "        \"reason_for_selling\": request.form['brand_reason_for_selling'],\n",
        "        \"url\": request.form['brand_url']\n",
        "    }\n",
        "    insert_smartphone(smartphone_data)\n",
        "    return redirect(url_for('devices', brand=request.form['brand']))"
      ],
      "metadata": {
        "id": "XuL_D4OjT2zu"
      },
      "execution_count": null,
      "outputs": []
    },
    {
      "cell_type": "code",
      "source": [
        "# processes the form data submitted via POST method and performs an action based on the \"modify\" value\n",
        "@app.route('/modify', methods=['post'])\n",
        "def modify():\n",
        " if request.form[\"modify\"] == \"edit\":\n",
        "    smartphone_id = request.form[\"smartphone_id\"]\n",
        "    smartphone = read_smartphone_by_id(smartphone_id)\n",
        "    return render_template('update.html', smartphone=smartphone)\n",
        " elif request.form[\"modify\"] == \"delete\":\n",
        "    smartphone_id =request.form[\"smartphone_id\"]\n",
        "    smartphone = read_smartphone_by_id(smartphone_id)\n",
        "    delete_smartphone(smartphone_id)\n",
        "    return redirect(url_for(\"devices\", brand=smartphone['brand']))"
      ],
      "metadata": {
        "id": "I8UI6d2WUK38"
      },
      "execution_count": null,
      "outputs": []
    },
    {
      "cell_type": "code",
      "source": [
        "# processes the form data submitted via POST method and updates the smartphone details in the database\n",
        "@app.route('/update', methods=['post'])\n",
        "def update():\n",
        "    smartphone_data = {\n",
        "        \"id\": request.form[\"smartphone_id\"],\n",
        "        \"brand\": request.form['smartphone_brand'],\n",
        "        \"model\": request.form['smartphone_model'],\n",
        "        \"chipset\": request.form['smartphone_chipset'],\n",
        "        \"main_camera\": request.form['smartphone_main_camera'],\n",
        "        \"selfie_camera\": request.form['smartphone_selfie_camera'],\n",
        "        \"internal_memory\": request.form['smartphone_internal_memory'],\n",
        "        \"battery\": request.form['smartphone_battery'],\n",
        "        \"color\": request.form['smartphone_color'],\n",
        "        \"price\": request.form['smartphone_price'],\n",
        "        \"condition\": request.form['smartphone_condition'],\n",
        "        \"reason_for_selling\": request.form['smartphone_reason_for_selling'],\n",
        "        \"url\": request.form['smartphone_url']\n",
        "    }\n",
        "    update_smartphone(smartphone_data)\n",
        "    return redirect(url_for('smartphone', smartphone_id = request.form['smartphone_id']))"
      ],
      "metadata": {
        "id": "eXaGZTsKUjf2"
      },
      "execution_count": null,
      "outputs": []
    },
    {
      "cell_type": "code",
      "source": [
        "# processes the search query submitted via GET method and retrieves the search results from the database\n",
        "@app.route('/search', methods=['get'])\n",
        "def search():\n",
        "    query = request.args.get('query', '')\n",
        "    results = search_smartphones(query)\n",
        "    return render_template('search_results.html', query=query, results=results)"
      ],
      "metadata": {
        "id": "US9qIAE2JmPs"
      },
      "execution_count": null,
      "outputs": []
    },
    {
      "cell_type": "code",
      "source": [
        "if __name__ == \"__main__\":\n",
        "    app.run(debug=True)"
      ],
      "metadata": {
        "id": "qkHtVN9nXBjk"
      },
      "execution_count": null,
      "outputs": []
    },
    {
      "cell_type": "markdown",
      "source": [
        "### **data.py**\n",
        "provides basic database operations for interacting with the SQLite database and performing CRUD (Create, Read, Update, Delete) operations on the smartphone records."
      ],
      "metadata": {
        "id": "QtaRH3oHasHB"
      }
    },
    {
      "cell_type": "code",
      "source": [
        "# establishes a connection to the SQLite database at the specified path and returns the connection and cursor objects\n",
        "def connect_to_db(path):\n",
        "    conn = sqlite3.connect(path)\n",
        "    conn.row_factory = sqlite3.Row\n",
        "    return (conn, conn.cursor())"
      ],
      "metadata": {
        "id": "PcKuerUaWKOt"
      },
      "execution_count": null,
      "outputs": []
    },
    {
      "cell_type": "code",
      "source": [
        "# retrieves a list of smartphones filtered by the specified brand from the database\n",
        "def read_smartphones_by_brand(brand):\n",
        "    conn, cur = connect_to_db(db_path)\n",
        "    query = 'SELECT * FROM smartphones WHERE brand = ?'\n",
        "    value = brand\n",
        "    results = cur.execute(query,(value,)).fetchall()\n",
        "    conn.close()\n",
        "    return results"
      ],
      "metadata": {
        "id": "v95aUWbtY0k-"
      },
      "execution_count": null,
      "outputs": []
    },
    {
      "cell_type": "code",
      "source": [
        "# retrieves a list of smartphones filtered by the specified brand from the database\n",
        "def read_smartphone_by_id(id):\n",
        "    conn, cur = connect_to_db(db_path)\n",
        "    query = 'SELECT * FROM smartphones WHERE id = ?'\n",
        "    value = id\n",
        "    results = cur.execute(query,(value,)).fetchone()\n",
        "    conn.close()\n",
        "    return results"
      ],
      "metadata": {
        "id": "27C_SJsWY4D-"
      },
      "execution_count": null,
      "outputs": []
    },
    {
      "cell_type": "code",
      "source": [
        "# inserts a new smartphone record into the database\n",
        "def insert_smartphone(smartphone_data):\n",
        "    conn, cur = connect_to_db(db_path)\n",
        "    query = 'INSERT INTO smartphones (brand, model, chipset, main_camera, selfie_camera, internal_memory, battery, color, price, condition, reason_for_selling, url) VALUES (?,?,?,?,?,?,?,?,?,?,?,?)'\n",
        "    values = (smartphone_data['brand'], smartphone_data['model'],\n",
        "              smartphone_data['chipset'], smartphone_data['main_camera'],\n",
        "              smartphone_data['selfie_camera'], smartphone_data['internal_memory'],\n",
        "              smartphone_data['battery'], smartphone_data['color'],\n",
        "              smartphone_data['price'], smartphone_data['condition'],\n",
        "              smartphone_data['reason_for_selling'], smartphone_data['url'])\n",
        "    cur.execute(query,values)\n",
        "    conn.commit()\n",
        "    conn.close()"
      ],
      "metadata": {
        "id": "LBMz5vJcY-os"
      },
      "execution_count": null,
      "outputs": []
    },
    {
      "cell_type": "code",
      "source": [
        "# updates an existing smartphone record in the database\n",
        "def update_smartphone(smartphone_data):\n",
        "    conn, cur = connect_to_db(db_path)\n",
        "    query = \"UPDATE smartphones SET brand=?, model=?, chipset=?, main_camera=?, selfie_camera=?, internal_memory=?, battery=?, color=?, price=?, condition=?, reason_for_selling=?, url=? WHERE id=?\"\n",
        "    values = (smartphone_data['brand'], smartphone_data['model'],\n",
        "              smartphone_data['chipset'], smartphone_data['main_camera'],\n",
        "              smartphone_data['selfie_camera'], smartphone_data['internal_memory'],\n",
        "              smartphone_data['battery'], smartphone_data['color'],\n",
        "              smartphone_data['price'], smartphone_data['condition'],\n",
        "              smartphone_data['reason_for_selling'], smartphone_data['url'],\n",
        "              smartphone_data['id'])\n",
        "    cur.execute(query,values)\n",
        "    conn.commit()\n",
        "    conn.close()"
      ],
      "metadata": {
        "id": "QlROgbuLZMcA"
      },
      "execution_count": null,
      "outputs": []
    },
    {
      "cell_type": "code",
      "source": [
        "# deletes a smartphone record from the database based on the specified ID\n",
        "def delete_smartphone(smartphone_id):\n",
        "    conn, cur = connect_to_db(db_path)\n",
        "    query = \"DELETE FROM smartphones WHERE id = ?\"\n",
        "    values = (smartphone_id,)\n",
        "    cur.execute(query, values)\n",
        "    conn.commit()\n",
        "    conn.close()"
      ],
      "metadata": {
        "id": "bueKhEK_ZQAP"
      },
      "execution_count": null,
      "outputs": []
    },
    {
      "cell_type": "code",
      "source": [
        "# searches for smartphones in the database based on the specified query\n",
        "def search_smartphones(query):\n",
        "    conn, cur = connect_to_db(db_path)\n",
        "    sql_query = \"SELECT * FROM smartphones WHERE brand LIKE ? OR model LIKE ?\"\n",
        "    value = \"%{}%\".format(query)\n",
        "    results = cur.execute(sql_query, (value, value)).fetchall()\n",
        "    conn.close()\n",
        "    return results"
      ],
      "metadata": {
        "id": "58LsDFaSZfPa"
      },
      "execution_count": null,
      "outputs": []
    },
    {
      "cell_type": "markdown",
      "source": [
        "### **base.html**\n",
        "serves as the base template for other pages in the Greenhills Online Extension website."
      ],
      "metadata": {
        "id": "f0_NKlEffmh3"
      }
    },
    {
      "cell_type": "code",
      "source": [
        "<!DOCTYPE html>\n",
        "<html lang=\"en\">\n",
        "<head>\n",
        "    <meta charset=\"UTF-8\">\n",
        "    <meta http-equiv=\"X-UA-Compatible\" content=\"IE=edge\">\n",
        "    <meta name=\"viewport\" content=\"width=device-width, initial-scale=1.0\">\n",
        "    <link href=\"https://cdn.jsdelivr.net/npm/bootstrap@5.3.0/dist/css/bootstrap.min.css\" rel=\"stylesheet\" integrity=\"sha384-9ndCyUaIbzAi2FUVXJi0CjmCapSmO7SnpJef0486qhLnuZ2cdeRhO02iuK6FUUVM\" crossorigin=\"anonymous\">\n",
        "    <link rel=\"stylesheet\" href=\"{{ url_for('static',filename = 'css/style.css') }}\">\n",
        "    <title>Greenhills Online Extension</title>\n",
        "</head>\n",
        "<body>\n",
        "\n",
        "# allows reusing the same navigation bar across different pages\n",
        "    {% include 'nav.html' %}\n",
        "\n",
        "    <div class=\"m-4\">\n",
        "# defines the content block that can be overridden in child templates\n",
        "        {% block content %}\n",
        "        <h1>This is where the content is</h1>\n",
        "        {% endblock %}\n",
        "    </div>\n",
        "\n",
        "\n",
        "    <script src=\"https://cdn.jsdelivr.net/npm/bootstrap@5.3.0/dist/js/bootstrap.bundle.min.js\" integrity=\"sha384-geWF76RCwLtnZ8qwWowPQNguL3RmwHVBC9FhGdlKrxdiJJigb/j/68SIy3Te4Bkz\" crossorigin=\"anonymous\"></script>\n",
        "</body>\n",
        "</html>"
      ],
      "metadata": {
        "id": "-pO2DK5KhbUx"
      },
      "execution_count": null,
      "outputs": []
    },
    {
      "cell_type": "markdown",
      "source": [
        "### **devices.html**\n",
        "generates a page that displays a list of smartphones belonging to a specific brand and for each smartphone, its model is displayed as a clickable link that leads to the corresponding details page."
      ],
      "metadata": {
        "id": "akscj3DNtO7H"
      }
    },
    {
      "cell_type": "code",
      "source": [
        "# extends the base.html template to inherit the structure and styling defined in the base template\n",
        "{% extends 'base.html' %}\n",
        "\n",
        "# overrides the block in base.html and the content within will replace the default content in base.html\n",
        "{% block content %}\n",
        "<h1>List of {{ brand }}</h1>\n",
        "<ul>\n",
        "# defines a loop that iterates over a list of smartphones then retrieves each object from the list one by one\n",
        "    {% for smartphone in smartphones %}\n",
        "    <li><a href=\"/devices/{{ smartphone.id }}\">{{ smartphone.model }}</a></li>\n",
        "    {% endfor %}\n",
        "</ul>\n",
        "# marks the end of the {% block content %}\n",
        "{% endblock %}"
      ],
      "metadata": {
        "id": "SonrCEP5t6Va"
      },
      "execution_count": null,
      "outputs": []
    },
    {
      "cell_type": "markdown",
      "source": [
        "### **index.html**\n",
        "provides a simple homepage for the Greenhills Reseller Website Extension with a heading, a description, and a list of smartphone brands as clickable links, allowing users to navigate to the pages displaying devices from the selected brands."
      ],
      "metadata": {
        "id": "hcvODjbU8bwd"
      }
    },
    {
      "cell_type": "code",
      "source": [
        "# extends the base.html template to inherit the structure and styling defined in the base template\n",
        "{% extends 'base.html' %}\n",
        "\n",
        "# overrides the block in base.html and the content within will replace the default content in base.html\n",
        "{% block content %}\n",
        "<h1>Greenhills Reseller Website Extension</h1>\n",
        "<p>Search through the list of smartphone brands to find a good and affordable smartphone!</p>\n",
        "<ul>\n",
        "# creates a list of hyperlinks that lead to the pages displaying devices from the respective smartphone brands: Apple, Samsung, and Xiaomi\n",
        "    <li><a href=\"devices/Apple\">Apple</a></li>\n",
        "    <li><a href=\"devices/Samsung\">Samsung</a></li>\n",
        "    <li><a href=\"devices/Xiaomi\">Xiaomi</a></li>\n",
        "</ul>\n",
        "# marks the end of the {% block content %}\n",
        "{% endblock %}"
      ],
      "metadata": {
        "id": "Oqn3mlKf8uW2"
      },
      "execution_count": null,
      "outputs": []
    },
    {
      "cell_type": "markdown",
      "source": [
        "### **nav.html**\n",
        "represents a navigation bar implemented using the Bootstrap framework, which is designed to be responsive, expanding and collapsing on smaller screens."
      ],
      "metadata": {
        "id": "wqcfzoFCqZjb"
      }
    },
    {
      "cell_type": "code",
      "source": [
        "# represents a navigation bar using the Bootstrap framework, designed to expand and collapse on smaller screens\n",
        "<nav class=\"navbar navbar-expand-lg navbar-dark bg-success\">\n",
        "# creates a container to hold the navbar content\n",
        "  <div class=\"container-fluid\">\n",
        "    <a class=\"navbar-brand\" href=\"/\">Greenhills Online Extension</a>\n",
        "# allows the navbar to collapse and expand when clicked\n",
        "    <button class=\"navbar-toggler\" type=\"button\" data-bs-toggle=\"collapse\" data-bs-target=\"#navbarSupportedContent\" aria-controls=\"navbarSupportedContent\" aria-expanded=\"false\" aria-label=\"Toggle navigation\">\n",
        "      <span class=\"navbar-toggler-icon\"></span>\n",
        "    </button>\n",
        "# contains the navbar items that will collapse or expand based on the toggle button's state\n",
        "    <div class=\"collapse navbar-collapse\" id=\"navbarSupportedContent\">\n",
        "# represents the navbar's menu items\n",
        "      <ul class=\"navbar-nav me-auto mb-2 mb-lg-0\">\n",
        "        <li class=\"nav-item\">\n",
        "          <a class=\"nav-link active\" aria-current=\"page\" href=\"/\">Home</a>\n",
        "        </li>\n",
        "        <li class=\"nav-item\">\n",
        "          <a class=\"nav-link\" href=\"{{ url_for('register') }}\">Post Your Item!</a>\n",
        "        </li>\n",
        "      </ul>\n",
        "# represents the search functionality in the navbar\n",
        "      <form class=\"d-flex\" action=\"{{ url_for('search') }}\" method=\"GET\">\n",
        "        <input class=\"form-control me-2\" type=\"search\" name=\"query\" placeholder=\"Type something here\" aria-label=\"Search\">\n",
        "        <button class=\"btn btn-outline-success text-light\" type=\"submit\">Go!</button>\n",
        "      </form>\n",
        "    </div>\n",
        "  </div>\n",
        "</nav>"
      ],
      "metadata": {
        "id": "ZnP6vcWJquNx"
      },
      "execution_count": null,
      "outputs": []
    },
    {
      "cell_type": "markdown",
      "source": [
        "### **register.html**\n",
        "contains a form for users to post details of their preloved smartphones for potential buyers. The form data is submitted to the specified URL using the HTTP POST method for processing."
      ],
      "metadata": {
        "id": "4Nqrv9v7r8ND"
      }
    },
    {
      "cell_type": "code",
      "source": [
        "# extends the base.html template to inherit the structure and styling defined in the base template\n",
        "{% extends 'base.html' %}\n",
        "\n",
        "# overrides the block in base.html and the content within will replace the default content in base.html\n",
        "{% block content %}\n",
        "<h1>Post your preloved smartphones here for potential buyers!</h1>\n",
        "# submits data to the specified URL using the HTTP POST method for processing\n",
        "<form action=\"{{ url_for('processing') }}\" method=\"post\">\n",
        "# represents a dropdown list that allows the user to select a brand from the provided options then assigns the selected value to the \"brand\" attribute when the form is submitted\n",
        "    <label for=\"p_brand\">Smartphone Brand:</label>\n",
        "    <select name=\"brand\" id=\"p_brand\" required>\n",
        "        <option disabled selected value>...</option>\n",
        "        <option value=\"Apple\">Apple</option>\n",
        "        <option value=\"Samsung\">Samsung</option>\n",
        "        <option value=\"Xiaomi\">Xiaomi</option>\n",
        "    </select><br><br>\n",
        "# associated with an input field where the user can enter a value, and the entered value will be assigned to an attribute when the form is submitted. The 'required' attribute means it must be filled in before the form can be submitted\n",
        "    <label for=\"p_model\">Model:</label>\n",
        "    <input type=\"text\" name=\"brand_model\" id=\"p_model\" required><br><br>\n",
        "    <label for=\"p_chipset\">Chipset:</label>\n",
        "    <input type=\"text\" name=\"brand_chipset\" id=\"p_chipset\"><br><br>\n",
        "    <label for=\"p_main_camera\">Main Camera:</label>\n",
        "    <input type=\"text\" name=\"brand_main_camera\" id=\"p_main_camera\"><br><br>\n",
        "    <label for=\"p_selfie_camera\">Selfie Camera:</label>\n",
        "    <input type=\"text\" name=\"brand_selfie_camera\" id=\"p_selfie_camera\"><br><br>\n",
        "    <label for=\"p_internal_memory\">Internal Memory:</label>\n",
        "    <input type=\"text\" name=\"brand_internal_memory\" id=\"p_internal_memory\"><br><br>\n",
        "    <label for=\"p_battery\">Battery:</label>\n",
        "    <input type=\"text\" name=\"brand_battery\" id=\"p_battery\"><br><br>\n",
        "    <label for=\"p_color\">Color:</label>\n",
        "    <input type=\"text\" name=\"brand_color\" id=\"p_color\"><br><br>\n",
        "    <label for=\"p_price\">Price:</label>\n",
        "    <input type=\"number\" name=\"brand_price\" id=\"p_price\"><br><br>\n",
        "    <label for=\"p_condition\">Condition:</label>\n",
        "    <textarea name=\"brand_condition\" id=\"p_condition\" placeholder=\"What is the condition of your smartphone?\" cols=\"30\" rows=\"10\"></textarea><br><br>\n",
        "    <label for=\"p_reason_for_selling\">Reason For Selling:</label>\n",
        "    <textarea name=\"brand_reason_for_selling\" id=\"p_reason_for_selling\" placeholder=\"Why do you want to sell this?\" cols=\"30\" rows=\"10\"></textarea><br><br>\n",
        "    <label for=\"p_url\">Image URL:</label>\n",
        "    <input type=\"url\" name=\"brand_url\" id=\"p_url\"><br><br>\n",
        "# represents a submit button that, when clicked, submits the form data to the server for processing with the label \"Register!\" displayed as the button text\n",
        "    <input type=\"submit\" value=\"Register!\">\n",
        "</form>\n",
        "# marks the end of the {% block content %}\n",
        "{% endblock %}"
      ],
      "metadata": {
        "id": "byPANIdEsCdP"
      },
      "execution_count": null,
      "outputs": []
    },
    {
      "cell_type": "markdown",
      "source": [
        "### **search_results.html**\n",
        "holds search results for a given query, and iterates over each smartphone object in the results list to display its brand, model, image, and various details. If no results are found, it displays a message indicating no results."
      ],
      "metadata": {
        "id": "UhTsDFjB_kT-"
      }
    },
    {
      "cell_type": "code",
      "source": [
        "# extends the base.html template to inherit the structure and styling defined in the base template\n",
        "{% extends 'base.html' %}\n",
        "\n",
        "# overrides the block in base.html and the content within will replace the default content in base.html\n",
        "{% block content %}\n",
        "  <h1>Search Results for \"{{ query }}\"</h1>\n",
        "# checks if there are any search results available\n",
        "  {% if results %}\n",
        "    <ul>\n",
        "# starts a loop that iterates over each item in the results list, allowing access to individual smartphone objects within the loop\n",
        "      {% for smartphone in results %}\n",
        "        <li>\n",
        "# displays the brand and model of the smartphone using the brand and model attributes of the smartphone object\n",
        "          <h2>{{ smartphone.brand }} - {{ smartphone.model }}</h2>\n",
        "# displays an image of the smartphone using the url attribute of the smartphone object\n",
        "          <img src=\"{{ smartphone.url }}\" alt=\"{{ smartphone.brand }} {{ smartphone.model }}\">\n",
        "# displays various details of the smartphone, using the corresponding attribute of the object\n",
        "          <p>Chipset: {{ smartphone.chipset }}</p>\n",
        "          <p>Main Camera: {{ smartphone.main_camera }}</p>\n",
        "          <p>Selfie Camera: {{ smartphone.selfie_camera }}</p>\n",
        "          <p>Internal Memory: {{ smartphone.internal_memory }}</p>\n",
        "          <p>Battery: {{ smartphone.battery }}</p>\n",
        "          <p>Color: {{ smartphone.color }}</p>\n",
        "          <p>Price: {{ smartphone.price }}</p>\n",
        "          <p>Condition: {{ smartphone.condition }}</p>\n",
        "          <p>Reason for Selling: {{ smartphone.reason_for_selling }}</p>\n",
        "        </li>\n",
        "      {% endfor %}\n",
        "    </ul>\n",
        "# executes the code block below (display \"No results found.\") if there are no search results\n",
        "  {% else %}\n",
        "    <p>No results found.</p>\n",
        "  {% endif %}\n",
        "# marks the end of the {% block content %}\n",
        "{% endblock %}"
      ],
      "metadata": {
        "id": "cQs1t1eV_5YL"
      },
      "execution_count": null,
      "outputs": []
    },
    {
      "cell_type": "markdown",
      "source": [
        "### **smartphone.html**\n",
        "contains details of each specific smartphone object. It also provides a form with \"edit\" and \"delete\" buttons for modifying or deleting the smartphone object."
      ],
      "metadata": {
        "id": "-GQPyt4IEgYn"
      }
    },
    {
      "cell_type": "code",
      "source": [
        "# extends the base.html template to inherit the structure and styling defined in the base template\n",
        "{% extends 'base.html' %}\n",
        "\n",
        "# overrides the block in base.html and the content within will replace the default content in base.html\n",
        "{% block content %}\n",
        "<h1> {{ smartphone.model }} </h1>\n",
        "<img src=\"{{smartphone.url}}\">\n",
        "# displays various attributes of a smartphone object\n",
        "<ul>\n",
        "    <li>Chipset: {{ smartphone.chipset }}</li>\n",
        "    <li>Main Camera: {{ smartphone.main_camera }}</li>\n",
        "    <li>Selfie Camera: {{ smartphone.selfie_camera }}</li>\n",
        "    <li>Internal_Memory: {{ smartphone.internal_memory }}</li>\n",
        "    <li>Battery: {{ smartphone.battery }}</li>\n",
        "    <li>Price: {{ smartphone.price }}</li>\n",
        "    <li>Condition: {{ smartphone.condition }}</li>\n",
        "    <li>Reason for Selling: {{ smartphone.reason_for_selling }}</li>\n",
        "</ul>\n",
        "# generates a form with two submit buttons, \"edit\" and \"delete,\" which are used for modifying or deleting a specific smartphone object\n",
        "<form action=\"{{ url_for('modify') }}\" method=\"post\">\n",
        "    <input type=\"hidden\" name=\"smartphone_id\" value=\"{{ smartphone.id }}\">\n",
        "    <input class=\"btn btn-secondary\" type=\"submit\" name=\"modify\" value=\"edit\"></input>\n",
        "    <input class=\"btn btn-danger\" type=\"submit\" name=\"modify\" value=\"delete\"></input>\n",
        "</form>\n",
        "# marks the end of the {% block content %}\n",
        "{% endblock %}"
      ],
      "metadata": {
        "id": "pH2jKDdKF6DW"
      },
      "execution_count": null,
      "outputs": []
    },
    {
      "cell_type": "markdown",
      "source": [
        "### **update.html**\n",
        "a form for editing phone details, and provides a submit button to trigger an update action, allowing changes to be made and saved"
      ],
      "metadata": {
        "id": "HQW2urNbJRQt"
      }
    },
    {
      "cell_type": "code",
      "source": [
        "# extends the base.html template to inherit the structure and styling defined in the base template\n",
        "{% extends 'base.html' %}\n",
        "\n",
        "# overrides the block in base.html and the content within will replace the default content in base.html\n",
        "{% block content %}\n",
        "    <h1>Edit phone details</h1>\n",
        "# creates an HTML form that will send a POST request to the \"update\" endpoint when submitted, allowing for data updates or modifications\n",
        "    <form action=\"{{ url_for('update') }}\" method=\"post\">\n",
        "        <input type=\"hidden\" name=\"smartphone_id\" value=\"{{ smartphone.id }}\">\n",
        "        <label for=\"p_name\">Brand:</label>\n",
        "        <input type=\"text\" name=\"smartphone_brand\" id=\"p_name\" value=\"{{ smartphone.brand }}\" required><br><br>\n",
        "        <label for=\"p_model\">Model:</label>\n",
        "        <input type=\"text\" name=\"smartphone_model\" id=\"p_model\" value=\"{{ smartphone.model }}\"><br><br>\n",
        "        <label for=\"p_chipset\">Chipset:</label>\n",
        "        <input type=\"text\" name=\"smartphone_chipset\" id=\"p_chipset\" value=\"{{ smartphone.chipset }}\"><br><br>\n",
        "        <label for=\"p_main_camera\">Main Camera:</label>\n",
        "        <input type=\"text\" name=\"smartphone_main_camera\" id=\"p_main_camera\" value=\"{{ smartphone.main_camera }}\"><br><br>\n",
        "        <label for=\"p_selfie_camera\">Selfie Camera:</label>\n",
        "        <input type=\"text\" name=\"smartphone_selfie_camera\" id=\"p_selfie_camera\" value=\"{{ smartphone.selfie_camera }}\"><br><br>\n",
        "        <label for=\"p_internal_memory\">Internal Memory:</label>\n",
        "        <input type=\"text\" name=\"smartphone_internal_memory\" id=\"p_internal_memory\" value=\"{{ smartphone.internal_memory }}\"><br><br>\n",
        "        <label for=\"p_battery\">Battery:</label>\n",
        "        <input type=\"text\" name=\"smartphone_battery\" id=\"p_battery\" value=\"{{ smartphone.battery }}\"><br><br>\n",
        "        <label for=\"p_color\">Color:</label>\n",
        "        <input type=\"text\" name=\"smartphone_color\" id=\"p_color\" value=\"{{ smartphone.color }}\"><br><br>\n",
        "        <label for=\"p_price\">Price:</label>\n",
        "        <input type=\"number\" name=\"smartphone_price\" id=\"p_price\" value=\"{{ smartphone.price }}\"><br><br>\n",
        "        <label for=\"p_condition\">Condition:</label>\n",
        "        <input type=\"text\" name=\"smartphone_condition\" id=\"p_condition\" value=\"{{ smartphone.condition }}\"><br><br>\n",
        "        <label for=\"p_reason_for_selling\">Reason For Selling:</label>\n",
        "        <textarea name=\"smartphone_reason_for_selling\" cols=\"30\" rows=\"10\">{{ smartphone.reason_for_selling }}</textarea><br><br>\n",
        "        <label for=\"p_url\">URL:</label>\n",
        "        <input type=\"url\" name=\"smartphone_url\" id=\"p_url\" value=\"{{ smartphone.url }}\"><br><br>\n",
        "# generates a submit button within a form that triggers an update action when clicked, typically used to update or save changes made to a form\n",
        "        <input type=\"submit\" value=\"Update!\">\n",
        "    </form>\n",
        "# marks the end of the {% block content %}\n",
        "{% endblock %}"
      ],
      "metadata": {
        "id": "5eihwWy4JU1j"
      },
      "execution_count": null,
      "outputs": []
    }
  ]
}